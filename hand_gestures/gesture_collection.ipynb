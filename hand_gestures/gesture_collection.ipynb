{
 "cells": [
  {
   "cell_type": "code",
   "execution_count": 6,
   "source": [
    "import time\r\n",
    "import os\r\n",
    "import cv2 as cv\r\n",
    "from uuid import uuid4\r\n",
    "\r\n",
    "IMAGES_PATH = r\"C:\\Users\\WilliamCosta\\Documents\\william_projects\\hand_gestures\\hand_gestures\\collected_images\""
   ],
   "outputs": [],
   "metadata": {}
  },
  {
   "cell_type": "code",
   "execution_count": 7,
   "source": [
    "labels = ['latex', 'graphs', 'images', 'close', 'league', 'netflix']\r\n",
    "number_images = 15"
   ],
   "outputs": [],
   "metadata": {}
  },
  {
   "cell_type": "code",
   "execution_count": 8,
   "source": [
    "#Utils Functions\r\n",
    "def create_folder(location):\r\n",
    "    folderIsMissing = not os.path.isdir(location)\r\n",
    "    if folderIsMissing:\r\n",
    "        os.mkdir(location)\r\n",
    "\r\n",
    "def capture_image():\r\n",
    "    _, image = cap.read()\r\n",
    "    return image\r\n",
    "\r\n",
    "def write_image(image, filename):\r\n",
    "    cv.imwrite(filename, image)\r\n",
    "    \r\n",
    "def show_image(image):\r\n",
    "    cv.imshow('frame', image)\r\n",
    "    \r\n",
    "def create_unique_name(label, hand):\r\n",
    "    return os.path.join(IMAGES_PATH, label, f\"{label}.{hand}.{uuid4()}.jpg\")\r\n"
   ],
   "outputs": [],
   "metadata": {}
  },
  {
   "cell_type": "code",
   "execution_count": 9,
   "source": [
    "for label in labels:\r\n",
    "    create_folder(os.path.join(IMAGES_PATH, label))\r\n",
    "    cap = cv.VideoCapture(0)\r\n",
    "    print(f'Collecting Image for {label}')\r\n",
    "    time.sleep(5)\r\n",
    "    print('right hand')\r\n",
    "    for i in range(number_images):\r\n",
    "        filename = create_unique_name(label, 'right')\r\n",
    "        image = capture_image()\r\n",
    "        write_image(image, filename)\r\n",
    "        show_image(image)\r\n",
    "        time.sleep(2)\r\n",
    "        \r\n",
    "        if cv.waitKey(1) & 0xFF == ord('q'):\r\n",
    "          break\r\n",
    "    print('left hand')\r\n",
    "    for i in range(number_images):\r\n",
    "        filename = create_unique_name(label, 'left')\r\n",
    "        image = capture_image()\r\n",
    "        write_image(image, filename)\r\n",
    "        show_image(image)\r\n",
    "        time.sleep(2)\r\n",
    "\r\n",
    "        if cv.waitKey(1) & 0xFF == ord('q'):\r\n",
    "          break\r\n",
    "    cap.release()\r\n"
   ],
   "outputs": [
    {
     "output_type": "stream",
     "name": "stdout",
     "text": [
      "Collecting Image for latex\n",
      "right hand\n",
      "left hand\n",
      "Collecting Image for graphs\n",
      "right hand\n"
     ]
    },
    {
     "output_type": "error",
     "ename": "KeyboardInterrupt",
     "evalue": "",
     "traceback": [
      "\u001b[1;31m---------------------------------------------------------------------------\u001b[0m",
      "\u001b[1;31mKeyboardInterrupt\u001b[0m                         Traceback (most recent call last)",
      "\u001b[1;32mC:\\Users\\WILLIA~1\\AppData\\Local\\Temp/ipykernel_3128/200034930.py\u001b[0m in \u001b[0;36m<module>\u001b[1;34m\u001b[0m\n\u001b[0;32m     10\u001b[0m         \u001b[0mwrite_image\u001b[0m\u001b[1;33m(\u001b[0m\u001b[0mimage\u001b[0m\u001b[1;33m,\u001b[0m \u001b[0mfilename\u001b[0m\u001b[1;33m)\u001b[0m\u001b[1;33m\u001b[0m\u001b[1;33m\u001b[0m\u001b[0m\n\u001b[0;32m     11\u001b[0m         \u001b[0mshow_image\u001b[0m\u001b[1;33m(\u001b[0m\u001b[0mimage\u001b[0m\u001b[1;33m)\u001b[0m\u001b[1;33m\u001b[0m\u001b[1;33m\u001b[0m\u001b[0m\n\u001b[1;32m---> 12\u001b[1;33m         \u001b[0mtime\u001b[0m\u001b[1;33m.\u001b[0m\u001b[0msleep\u001b[0m\u001b[1;33m(\u001b[0m\u001b[1;36m2\u001b[0m\u001b[1;33m)\u001b[0m\u001b[1;33m\u001b[0m\u001b[1;33m\u001b[0m\u001b[0m\n\u001b[0m\u001b[0;32m     13\u001b[0m \u001b[1;33m\u001b[0m\u001b[0m\n\u001b[0;32m     14\u001b[0m         \u001b[1;32mif\u001b[0m \u001b[0mcv\u001b[0m\u001b[1;33m.\u001b[0m\u001b[0mwaitKey\u001b[0m\u001b[1;33m(\u001b[0m\u001b[1;36m1\u001b[0m\u001b[1;33m)\u001b[0m \u001b[1;33m&\u001b[0m \u001b[1;36m0xFF\u001b[0m \u001b[1;33m==\u001b[0m \u001b[0mord\u001b[0m\u001b[1;33m(\u001b[0m\u001b[1;34m'q'\u001b[0m\u001b[1;33m)\u001b[0m\u001b[1;33m:\u001b[0m\u001b[1;33m\u001b[0m\u001b[1;33m\u001b[0m\u001b[0m\n",
      "\u001b[1;31mKeyboardInterrupt\u001b[0m: "
     ]
    }
   ],
   "metadata": {}
  }
 ],
 "metadata": {
  "orig_nbformat": 4,
  "language_info": {
   "name": "python",
   "version": "3.8.5",
   "mimetype": "text/x-python",
   "codemirror_mode": {
    "name": "ipython",
    "version": 3
   },
   "pygments_lexer": "ipython3",
   "nbconvert_exporter": "python",
   "file_extension": ".py"
  },
  "kernelspec": {
   "name": "python3",
   "display_name": "Python 3.8.5 64-bit ('environment': venv)"
  },
  "interpreter": {
   "hash": "022cfd0188ca7f04fba581cb77f2e5bc48279b32955fab2f0861f848f23af2ed"
  }
 },
 "nbformat": 4,
 "nbformat_minor": 2
}