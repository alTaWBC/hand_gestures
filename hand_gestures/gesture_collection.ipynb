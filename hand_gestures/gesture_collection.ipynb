{
 "cells": [
  {
   "cell_type": "code",
   "execution_count": 1,
   "source": [
    "import time\r\n",
    "import os\r\n",
    "import cv2 as cv\r\n",
    "from uuid import uuid4\r\n",
    "\r\n",
    "IMAGES_PATH = r\"C:\\Users\\WilliamCosta\\Documents\\william_projects\\hand_gestures\\hand_gestures\\collected_images\"\r\n"
   ],
   "outputs": [],
   "metadata": {}
  },
  {
   "cell_type": "code",
   "execution_count": 2,
   "source": [
    "labels = ['latex', 'graphs', 'images', 'close', 'league', 'netflix']\r\n",
    "number_images = 15"
   ],
   "outputs": [],
   "metadata": {}
  },
  {
   "cell_type": "code",
   "execution_count": 3,
   "source": [
    "#Utils Functions\r\n",
    "def create_folder(location):\r\n",
    "    folderIsMissing = not os.path.isdir(location)\r\n",
    "    if folderIsMissing:\r\n",
    "        os.mkdir(location)\r\n",
    "\r\n",
    "def capture_image():\r\n",
    "    _, image = cap.read()\r\n",
    "    return image\r\n",
    "\r\n",
    "def write_image(image, filename):\r\n",
    "    cv.imwrite(filename, image)\r\n",
    "    \r\n",
    "def show_image(image):\r\n",
    "    cv.imshow('frame', image)\r\n",
    "    \r\n",
    "def create_unique_name(label, hand):\r\n",
    "    return os.path.join(IMAGES_PATH, label, f\"{label}.{hand}.{uuid4()}.jpg\")\r\n"
   ],
   "outputs": [],
   "metadata": {}
  },
  {
   "cell_type": "code",
   "execution_count": 4,
   "source": [
    "# for label in labels:\r\n",
    "#     create_folder(os.path.join(IMAGES_PATH, label))\r\n",
    "#     cap = cv.VideoCapture(0)\r\n",
    "#     print(f'Collecting Image for {label}')\r\n",
    "#     time.sleep(5)\r\n",
    "#     print('right hand')\r\n",
    "#     for i in range(number_images):\r\n",
    "#         filename = create_unique_name(label, 'right')\r\n",
    "#         image = capture_image()\r\n",
    "#         write_image(image, filename)\r\n",
    "#         show_image(image)\r\n",
    "#         time.sleep(2)\r\n",
    "        \r\n",
    "#         if cv.waitKey(1) & 0xFF == ord('q'):\r\n",
    "#           break\r\n",
    "#     print('left hand')\r\n",
    "#     for i in range(number_images):\r\n",
    "#         filename = create_unique_name(label, 'left')\r\n",
    "#         image = capture_image()\r\n",
    "#         write_image(image, filename)\r\n",
    "#         show_image(image)\r\n",
    "#         time.sleep(2)\r\n",
    "\r\n",
    "#         if cv.waitKey(1) & 0xFF == ord('q'):\r\n",
    "#           break\r\n",
    "#     cap.release()\r\n"
   ],
   "outputs": [],
   "metadata": {}
  },
  {
   "cell_type": "code",
   "execution_count": 13,
   "source": [
    "#split in train test\r\n",
    "from math import floor\r\n",
    "import shutil\r\n",
    "ANNOTATIONS_PATH = r\"C:\\Users\\WilliamCosta\\Documents\\william_projects\\hand_gestures\\hand_gestures\\labelled_images\"\r\n",
    "OUTPUT_PATH = r\"C:\\Users\\WilliamCosta\\Documents\\william_projects\\hand_gestures\\hand_gestures\\relevant_files\"\r\n",
    "\r\n",
    "annotations = os.listdir(ANNOTATIONS_PATH)\r\n",
    "\r\n",
    "for folder in os.listdir(IMAGES_PATH):\r\n",
    "    \r\n",
    "    images = os.listdir(os.path.join(IMAGES_PATH, folder))\r\n",
    "    for i, image in enumerate(images):\r\n",
    "        if image[:-4]+ '.xml' in annotations:\r\n",
    "            if i < floor(len(images) * 0.8):\r\n",
    "                shutil.copyfile(os.path.join(IMAGES_PATH, folder, image),\r\n",
    "                        os.path.join(OUTPUT_PATH, 'train', image))\r\n",
    "                shutil.copyfile(os.path.join(ANNOTATIONS_PATH, image[:-4] + '.xml'),\r\n",
    "                        os.path.join(OUTPUT_PATH, 'train',  image[:-4] + '.xml'))\r\n",
    "            else:\r\n",
    "                shutil.copyfile(os.path.join(IMAGES_PATH, folder, image),\r\n",
    "                        os.path.join(OUTPUT_PATH, 'test', image))\r\n",
    "                shutil.copyfile(os.path.join(ANNOTATIONS_PATH, image[:-4] + '.xml'),\r\n",
    "                        os.path.join(OUTPUT_PATH, 'test',  image[:-4] + '.xml'))\r\n"
   ],
   "outputs": [
    {
     "output_type": "error",
     "ename": "FileNotFoundError",
     "evalue": "[Errno 2] No such file or directory: 'C:\\\\Users\\\\WilliamCosta\\\\Documents\\\\william_projects\\\\hand_gestures\\\\hand_gestures\\\\collected_images\\\\close.left.1cf4adb8-a666-4e54-adb5-9ae16046217b.xml'",
     "traceback": [
      "\u001b[1;31m---------------------------------------------------------------------------\u001b[0m",
      "\u001b[1;31mFileNotFoundError\u001b[0m                         Traceback (most recent call last)",
      "\u001b[1;32mC:\\Users\\WILLIA~1\\AppData\\Local\\Temp/ipykernel_5048/288678960.py\u001b[0m in \u001b[0;36m<module>\u001b[1;34m\u001b[0m\n\u001b[0;32m     15\u001b[0m                 shutil.copyfile(os.path.join(IMAGES_PATH, folder, image),\n\u001b[0;32m     16\u001b[0m                         os.path.join(OUTPUT_PATH, 'train', image))\n\u001b[1;32m---> 17\u001b[1;33m                 shutil.copyfile(os.path.join(IMAGES_PATH, image[:-4] + '.xml'),\n\u001b[0m\u001b[0;32m     18\u001b[0m                         os.path.join(OUTPUT_PATH, 'train',  image[:-4] + '.xml'))\n\u001b[0;32m     19\u001b[0m             \u001b[1;32melse\u001b[0m\u001b[1;33m:\u001b[0m\u001b[1;33m\u001b[0m\u001b[1;33m\u001b[0m\u001b[0m\n",
      "\u001b[1;32m~\\AppData\\Local\\Programs\\Python\\Python38\\lib\\shutil.py\u001b[0m in \u001b[0;36mcopyfile\u001b[1;34m(src, dst, follow_symlinks)\u001b[0m\n\u001b[0;32m    259\u001b[0m         \u001b[0mos\u001b[0m\u001b[1;33m.\u001b[0m\u001b[0msymlink\u001b[0m\u001b[1;33m(\u001b[0m\u001b[0mos\u001b[0m\u001b[1;33m.\u001b[0m\u001b[0mreadlink\u001b[0m\u001b[1;33m(\u001b[0m\u001b[0msrc\u001b[0m\u001b[1;33m)\u001b[0m\u001b[1;33m,\u001b[0m \u001b[0mdst\u001b[0m\u001b[1;33m)\u001b[0m\u001b[1;33m\u001b[0m\u001b[1;33m\u001b[0m\u001b[0m\n\u001b[0;32m    260\u001b[0m     \u001b[1;32melse\u001b[0m\u001b[1;33m:\u001b[0m\u001b[1;33m\u001b[0m\u001b[1;33m\u001b[0m\u001b[0m\n\u001b[1;32m--> 261\u001b[1;33m         \u001b[1;32mwith\u001b[0m \u001b[0mopen\u001b[0m\u001b[1;33m(\u001b[0m\u001b[0msrc\u001b[0m\u001b[1;33m,\u001b[0m \u001b[1;34m'rb'\u001b[0m\u001b[1;33m)\u001b[0m \u001b[1;32mas\u001b[0m \u001b[0mfsrc\u001b[0m\u001b[1;33m,\u001b[0m \u001b[0mopen\u001b[0m\u001b[1;33m(\u001b[0m\u001b[0mdst\u001b[0m\u001b[1;33m,\u001b[0m \u001b[1;34m'wb'\u001b[0m\u001b[1;33m)\u001b[0m \u001b[1;32mas\u001b[0m \u001b[0mfdst\u001b[0m\u001b[1;33m:\u001b[0m\u001b[1;33m\u001b[0m\u001b[1;33m\u001b[0m\u001b[0m\n\u001b[0m\u001b[0;32m    262\u001b[0m             \u001b[1;31m# macOS\u001b[0m\u001b[1;33m\u001b[0m\u001b[1;33m\u001b[0m\u001b[1;33m\u001b[0m\u001b[0m\n\u001b[0;32m    263\u001b[0m             \u001b[1;32mif\u001b[0m \u001b[0m_HAS_FCOPYFILE\u001b[0m\u001b[1;33m:\u001b[0m\u001b[1;33m\u001b[0m\u001b[1;33m\u001b[0m\u001b[0m\n",
      "\u001b[1;31mFileNotFoundError\u001b[0m: [Errno 2] No such file or directory: 'C:\\\\Users\\\\WilliamCosta\\\\Documents\\\\william_projects\\\\hand_gestures\\\\hand_gestures\\\\collected_images\\\\close.left.1cf4adb8-a666-4e54-adb5-9ae16046217b.xml'"
     ]
    }
   ],
   "metadata": {}
  }
 ],
 "metadata": {
  "orig_nbformat": 4,
  "language_info": {
   "name": "python",
   "version": "3.8.5",
   "mimetype": "text/x-python",
   "codemirror_mode": {
    "name": "ipython",
    "version": 3
   },
   "pygments_lexer": "ipython3",
   "nbconvert_exporter": "python",
   "file_extension": ".py"
  },
  "kernelspec": {
   "name": "python3",
   "display_name": "Python 3.8.5 64-bit ('environment': venv)"
  },
  "interpreter": {
   "hash": "022cfd0188ca7f04fba581cb77f2e5bc48279b32955fab2f0861f848f23af2ed"
  }
 },
 "nbformat": 4,
 "nbformat_minor": 2
}